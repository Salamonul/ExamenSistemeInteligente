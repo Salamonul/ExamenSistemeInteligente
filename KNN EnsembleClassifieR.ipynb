{
 "cells": [
  {
   "cell_type": "markdown",
   "metadata": {},
   "source": [
    "# \"Solving the Problem of the K Parameter in the KNN Classifier Using an Ensemble Learning Approach\"\n",
    "\n",
    "# Ideea principala a acestui articol este utilizarea algoritmului KNN fara a specifica parametrul k in mod empiric.\n",
    "\n",
    "\n",
    "# Metoda propusa in acest articol a fost asamblarea clasificatoarelor KNN cu k=1, 3, 5, 7 ... n (unde n reprezinta radacina patrata a dimensiunii setului de date) intr-un singur clasificator care va clasifica in urma deciziei majoritare \n",
    "\n",
    "# Pasul 1: importam librariile necesare"
   ]
  },
  {
   "cell_type": "code",
   "execution_count": 3,
   "metadata": {},
   "outputs": [],
   "source": [
    "#import subprocess\n",
    "import pandas as pd\n",
    "import numpy as np\n",
    "\n",
    "from numpy import mean\n",
    "from numpy import std\n",
    "from sklearn.model_selection import cross_val_score\n",
    "from sklearn.model_selection import RepeatedStratifiedKFold\n",
    "from sklearn.preprocessing import LabelEncoder\n",
    "from sklearn.neighbors import KNeighborsClassifier\n",
    "from sklearn.metrics import accuracy_score, precision_score\n",
    "from sklearn.utils import shuffle\n",
    "from matplotlib import pyplot\n",
    "\n",
    "from sklearn.ensemble import VotingClassifier\n",
    "import math\n"
   ]
  },
  {
   "cell_type": "markdown",
   "metadata": {},
   "source": [
    "#  Pasul 2: definim metoda de instantiere a clasificatorului asamblat"
   ]
  },
  {
   "cell_type": "code",
   "execution_count": 4,
   "metadata": {},
   "outputs": [],
   "source": [
    "# get a voting ensemble of models\n",
    "def get_voting(n):\n",
    "\tk=-1; count=0; models = list(); label=\"-NN\"; labelList=[];\n",
    "\twhile k<n: \n",
    "\t\tk=k+2;\n",
    "\t\tcount=count+1;\n",
    "\t\tlabelList.append(str(k)+label)\n",
    "\t\t# define the base models\n",
    "\t\tmodels.append((str(k)+label, KNeighborsClassifier(n_neighbors=k)))\n",
    "\t# define the voting ensemble\n",
    "\tensemble = VotingClassifier(estimators=models, voting='hard')\n",
    "\treturn ensemble"
   ]
  },
  {
   "cell_type": "markdown",
   "metadata": {},
   "source": [
    "#  Pasul 3: vom crea o lista cu clasificatorii care vor fi evaluati, aceasta lista contine clasificatorii 1NN, 3NN, 5NN.... nNN (unde n reprezinta radacina patrata a dimensiunii setului de date), si clasificatorul care asambleaza toti clasificatorii mentionati anterior"
   ]
  },
  {
   "cell_type": "code",
   "execution_count": 5,
   "metadata": {},
   "outputs": [],
   "source": [
    "# get a list of models to evaluate\n",
    "def get_models(n):\n",
    "\tmodels = dict()\n",
    "\tk=-1; count=0; label=\"-NN\"; labelList=[];\n",
    "\twhile k<n: \n",
    "\t\tk=k+2;\n",
    "\t\tcount=count+1;\n",
    "\t\tlabelList.append(str(k)+label)\n",
    "\t\t# define the base models\n",
    "\t\tif(k<10):\n",
    "\t\t\tmodels['  '+str(k)+label] = KNeighborsClassifier(n_neighbors=k)\n",
    "\t\telif(k>10 and k<100):\n",
    "\t\t\tmodels[' '+str(k)+label] = KNeighborsClassifier(n_neighbors=k)\n",
    "\t\telse:\n",
    "\t\t\tmodels[str(k)+label] = KNeighborsClassifier(n_neighbors=k)\n",
    "\t\t\n",
    "\tmodels['ensemble'] = get_voting(n)\n",
    "\treturn models"
   ]
  },
  {
   "cell_type": "markdown",
   "metadata": {},
   "source": [
    "# Pasul 4: vom crea o metoda care va evalua fiecare model individual, metrica de interes fiind acuratetea. Pentru testare am impartit setul de date in 70% date de antrenare si 30% date de testare cum a specificat autorul documentului"
   ]
  },
  {
   "cell_type": "code",
   "execution_count": 6,
   "metadata": {},
   "outputs": [],
   "source": [
    "# evaluate a give model using cross-validation\n",
    "def evaluate_model(model):\n",
    "\tcv = RepeatedStratifiedKFold(n_splits=5, n_repeats=1, random_state=1)\n",
    "\tscores = cross_val_score(model, X, y, scoring='accuracy', cv=cv, n_jobs=-1)\n",
    "\treturn scores"
   ]
  },
  {
   "cell_type": "markdown",
   "metadata": {},
   "source": [
    "# Un exemplu propus de autor foloseste setul de date QSAR.csv care contine 43 de feature-uri, din care primele 42 sunt date de intrare, iar al 43-lea feature reprezinta clasa din care face parte obiectul interogat. \n",
    "# Dimensiunea setului de date este de 1055 de unde tragem concluzia ca vom utiliza clasificatorii 1NN, 3NN, 5NN, 7NN, 9NN, 11NN, 13NN, 15NN, 17NN, 19NN, 21NN, 23NN, 25NN, 27NN, 29NN, 31NN(deoarece 31 este cel mai apropiat numar impar de radical(1055)) in cadrul clasificatorului asamblat. "
   ]
  },
  {
   "cell_type": "code",
   "execution_count": 7,
   "metadata": {},
   "outputs": [],
   "source": [
    "input_file = \"QSAR .csv\"\n",
    "\n",
    "data = pd.read_csv(input_file, header = 0)\n",
    "\n",
    "X, y = data[data.columns.drop('F43')], data['F43']\n",
    "\n",
    "n=int(math.sqrt(1055))\n",
    "\n",
    "\n",
    "if(n % 2 == 0):\n",
    "\tn=n-1\n",
    "\n",
    "models = get_models(n)"
   ]
  },
  {
   "cell_type": "markdown",
   "metadata": {},
   "source": [
    "# Datorita unui bug modelele sunt analizate intr-o ordine aleatoare, motiv pentru care voi introduce o sortare alfabetica a numelor clasificatoriilor care va ordona indirect si lista performantelor obtinute\n"
   ]
  },
  {
   "cell_type": "code",
   "execution_count": 8,
   "metadata": {},
   "outputs": [
    {
     "name": "stdout",
     "output_type": "stream",
     "text": [
      "  1-NN 0.7981 \n",
      "  3-NN 0.8190 \n",
      "  5-NN 0.8038 \n",
      "  7-NN 0.8057 \n",
      "  9-NN 0.8095 \n",
      " 11-NN 0.8076 \n",
      " 13-NN 0.8009 \n",
      " 15-NN 0.7943 \n",
      " 17-NN 0.7886 \n",
      " 19-NN 0.7839 \n",
      " 21-NN 0.7754 \n",
      " 23-NN 0.7735 \n",
      " 25-NN 0.7773 \n",
      " 27-NN 0.7744 \n",
      " 29-NN 0.7687 \n",
      " 31-NN 0.7640 \n",
      "ensemble 0.7972 \n"
     ]
    }
   ],
   "source": [
    "# evaluate the models and store results (unsorted)\n",
    "results, names = list(), list()\n",
    "\n",
    "for name, model in models.items():\n",
    "\tscores = evaluate_model(model)\n",
    "\tresults.append(scores)\n",
    "\tnames.append(name)\n",
    "for x in range (len(names)): \t\n",
    "\tprint('%s %.4f ' % (names[x], mean(results[x])))"
   ]
  },
  {
   "cell_type": "code",
   "execution_count": 9,
   "metadata": {},
   "outputs": [
    {
     "name": "stdout",
     "output_type": "stream",
     "text": [
      "  1-NN 0.7981 \n",
      "  3-NN 0.8190 \n",
      "  5-NN 0.8038 \n",
      "  7-NN 0.8057 \n",
      "  9-NN 0.8095 \n",
      " 11-NN 0.8076 \n",
      " 13-NN 0.8009 \n",
      " 15-NN 0.7943 \n",
      " 17-NN 0.7886 \n",
      " 19-NN 0.7839 \n",
      " 21-NN 0.7754 \n",
      " 23-NN 0.7735 \n",
      " 25-NN 0.7773 \n",
      " 27-NN 0.7744 \n",
      " 29-NN 0.7687 \n",
      " 31-NN 0.7640 \n",
      "ensemble 0.7972 \n"
     ]
    }
   ],
   "source": [
    "# evaluate the models and store results (sorted)\n",
    "results, names = list(), list()\n",
    "\n",
    "for name, model in models.items():\n",
    "\tscores = evaluate_model(model)\n",
    "\tresults.append(scores)\n",
    "\tnames.append(name)\n",
    "\tzipped= zip(names, results)\n",
    "names, results = zip(*sorted(zipped))\n",
    "for x in range (len(names)): \t\n",
    "\tprint('%s %.4f ' % (names[x], mean(results[x])))"
   ]
  },
  {
   "cell_type": "markdown",
   "metadata": {},
   "source": [
    "# Australian data set contine 690 randuri de date, 42 de feature-uri, feature-ul pe care il vom clasifica este F15 care are 2 posibile clase "
   ]
  },
  {
   "cell_type": "code",
   "execution_count": 10,
   "metadata": {},
   "outputs": [
    {
     "name": "stdout",
     "output_type": "stream",
     "text": [
      "Evaluate Australian dataset\n",
      "  1-NN 0.6681 \n",
      "  3-NN 0.6855 \n",
      "  5-NN 0.6841 \n",
      "  7-NN 0.6928 \n",
      "  9-NN 0.6884 \n",
      " 11-NN 0.7000 \n",
      " 13-NN 0.6957 \n",
      " 15-NN 0.6725 \n",
      " 17-NN 0.6884 \n",
      " 19-NN 0.6913 \n",
      " 21-NN 0.6957 \n",
      " 23-NN 0.6928 \n",
      " 25-NN 0.6899 \n",
      "ensemble 0.6928 \n",
      "Best accuracy : 11-NN with accuracy 0.7000 \n"
     ]
    }
   ],
   "source": [
    "print('Evaluate Australian dataset')\n",
    "input_file = \"australian.csv\"\n",
    "\n",
    "data = pd.read_csv(input_file, header = 0)\n",
    "\n",
    "X, y = data[data.columns.drop('F15')], data['F15']\n",
    "\n",
    "n=int(math.sqrt(690))\n",
    "\n",
    "\n",
    "if(n % 2 == 0):\n",
    "\tn=n-1\n",
    "\n",
    "models = get_models(n)\n",
    "# evaluate the models and store results\n",
    "results, names = list(), list()\n",
    "bestName=\"1NN\"; bestAccuracy=0;\n",
    "for name, model in models.items():\n",
    "\tscores = evaluate_model(model)\n",
    "\tresults.append(scores)\n",
    "\tnames.append(name)\n",
    "\tzipped= zip(names, results)\n",
    "names, results = zip(*sorted(zipped))\n",
    "for x in range (len(names)): \t\n",
    "\tprint('%s %.4f ' % (names[x], mean(results[x])))\n",
    "\tif(mean(results[x])> bestAccuracy):\n",
    "\t\tbestName= names[x]; \n",
    "\t\tbestAccuracy= mean(results[x]);\n",
    "print('Best accuracy :%s with accuracy %.4f '% (bestName, bestAccuracy))"
   ]
  },
  {
   "cell_type": "markdown",
   "metadata": {},
   "source": [
    "# Balance data set contine 625 randuri de date, 4 feature-uri, feature-ul pe care il vom clasifica este F1 care are 3 posibile clase "
   ]
  },
  {
   "cell_type": "code",
   "execution_count": 11,
   "metadata": {},
   "outputs": [
    {
     "name": "stdout",
     "output_type": "stream",
     "text": [
      "Evaluate Balance dataset\n",
      "  1-NN 0.7888 \n",
      "  3-NN 0.7792 \n",
      "  5-NN 0.8176 \n",
      "  7-NN 0.8592 \n",
      "  9-NN 0.8688 \n",
      " 11-NN 0.8768 \n",
      " 13-NN 0.8736 \n",
      " 15-NN 0.8864 \n",
      " 17-NN 0.8912 \n",
      " 19-NN 0.8944 \n",
      " 21-NN 0.8944 \n",
      " 23-NN 0.8928 \n",
      " 25-NN 0.8880 \n",
      "ensemble 0.8896 \n",
      "Best accuracy : 19-NN with accuracy 0.8944 \n"
     ]
    }
   ],
   "source": [
    "print('Evaluate Balance dataset')\n",
    "input_file = \"balance.csv\"\n",
    "\n",
    "data = pd.read_csv(input_file, header = 0)\n",
    "\n",
    "X, y = data[data.columns.drop('F1')], data['F1']\n",
    "\n",
    "n=int(math.sqrt(625))\n",
    "\n",
    "\n",
    "if(n % 2 == 0):\n",
    "\tn=n-1\n",
    "\n",
    "models = get_models(n)\n",
    "# evaluate the models and store results\n",
    "results, names = list(), list()\n",
    "bestName=\"1NN\"; bestAccuracy=0;\n",
    "for name, model in models.items():\n",
    "\tscores = evaluate_model(model)\n",
    "\tresults.append(scores)\n",
    "\tnames.append(name)\n",
    "\tzipped= zip(names, results)\n",
    "names, results = zip(*sorted(zipped))\n",
    "for x in range (len(names)): \t\n",
    "\tprint('%s %.4f ' % (names[x], mean(results[x])))\n",
    "\tif(mean(results[x])> bestAccuracy):\n",
    "\t\tbestName= names[x]; \n",
    "\t\tbestAccuracy= mean(results[x]);\n",
    "print('Best accuracy :%s with accuracy %.4f '% (bestName, bestAccuracy))"
   ]
  },
  {
   "cell_type": "markdown",
   "metadata": {},
   "source": [
    "# Banknote data set contine 1372 randuri de date, 5 feature-uri, feature-ul pe care il vom clasifica este F5 care are 2 posibile clase "
   ]
  },
  {
   "cell_type": "code",
   "execution_count": 12,
   "metadata": {},
   "outputs": [
    {
     "name": "stdout",
     "output_type": "stream",
     "text": [
      "Evaluate Banknote dataset\n",
      "  1-NN 0.9993 \n",
      "  3-NN 0.9993 \n",
      "  5-NN 1.0000 \n",
      "  7-NN 1.0000 \n",
      "  9-NN 1.0000 \n",
      " 11-NN 1.0000 \n",
      " 13-NN 1.0000 \n",
      " 15-NN 0.9978 \n",
      " 17-NN 0.9942 \n",
      " 19-NN 0.9934 \n",
      " 21-NN 0.9927 \n",
      " 23-NN 0.9927 \n",
      " 25-NN 0.9927 \n",
      " 27-NN 0.9927 \n",
      " 29-NN 0.9927 \n",
      " 31-NN 0.9927 \n",
      " 33-NN 0.9927 \n",
      " 35-NN 0.9898 \n",
      " 37-NN 0.9891 \n",
      "ensemble 0.9934 \n",
      "Best accuracy :  5-NN with accuracy 1.0000 \n"
     ]
    }
   ],
   "source": [
    "print('Evaluate Banknote dataset')\n",
    "input_file = \"banknote.csv\"\n",
    "\n",
    "data = pd.read_csv(input_file, header = 0)\n",
    "\n",
    "X, y = data[data.columns.drop('F5')], data['F5']\n",
    "\n",
    "n=int(math.sqrt(1372))\n",
    "\n",
    "\n",
    "if(n % 2 == 0):\n",
    "\tn=n-1\n",
    "\n",
    "models = get_models(n)\n",
    "# evaluate the models and store results\n",
    "results, names = list(), list()\n",
    "bestName=\"1NN\"; bestAccuracy=0;\n",
    "for name, model in models.items():\n",
    "\tscores = evaluate_model(model)\n",
    "\tresults.append(scores)\n",
    "\tnames.append(name)\n",
    "\tzipped= zip(names, results)\n",
    "names, results = zip(*sorted(zipped))\n",
    "for x in range (len(names)): \t\n",
    "\tprint('%s %.4f ' % (names[x], mean(results[x])))\n",
    "\tif(mean(results[x])> bestAccuracy):\n",
    "\t\tbestName= names[x]; \n",
    "\t\tbestAccuracy= mean(results[x]);\n",
    "print('Best accuracy :%s with accuracy %.4f '% (bestName, bestAccuracy))"
   ]
  },
  {
   "cell_type": "markdown",
   "metadata": {},
   "source": [
    "# Haberman data set contine 306 randuri de date, 4 feature-uri, feature-ul pe care il vom clasifica este F4 care are 2 posibile clase"
   ]
  },
  {
   "cell_type": "code",
   "execution_count": 13,
   "metadata": {},
   "outputs": [
    {
     "name": "stdout",
     "output_type": "stream",
     "text": [
      "Evaluate Haberman dataset\n",
      "  1-NN 0.6636 \n",
      "  3-NN 0.6960 \n",
      "  5-NN 0.7024 \n",
      "  7-NN 0.7319 \n",
      "  9-NN 0.7614 \n",
      " 11-NN 0.7616 \n",
      " 13-NN 0.7681 \n",
      " 15-NN 0.7452 \n",
      " 17-NN 0.7452 \n",
      "ensemble 0.7680 \n",
      "Best accuracy : 13-NN with accuracy 0.7681 \n"
     ]
    }
   ],
   "source": [
    "print('Evaluate Haberman dataset')\n",
    "input_file = \"haberman.csv\"\n",
    "\n",
    "data = pd.read_csv(input_file, header = 0)\n",
    "\n",
    "X, y = data[data.columns.drop('F4')], data['F4']\n",
    "\n",
    "n=int(math.sqrt(306))\n",
    "\n",
    "\n",
    "if(n % 2 == 0):\n",
    "\tn=n-1\n",
    "\n",
    "models = get_models(n)\n",
    "# evaluate the models and store results\n",
    "results, names = list(), list()\n",
    "bestName=\"1NN\"; bestAccuracy=0;\n",
    "for name, model in models.items():\n",
    "\tscores = evaluate_model(model)\n",
    "\tresults.append(scores)\n",
    "\tnames.append(name)\n",
    "\tzipped= zip(names, results)\n",
    "names, results = zip(*sorted(zipped))\n",
    "for x in range (len(names)): \t\n",
    "\tprint('%s %.4f ' % (names[x], mean(results[x])))\n",
    "\tif(mean(results[x])> bestAccuracy):\n",
    "\t\tbestName= names[x]; \n",
    "\t\tbestAccuracy= mean(results[x]);\n",
    "print('Best accuracy :%s with accuracy %.4f '% (bestName, bestAccuracy))"
   ]
  },
  {
   "cell_type": "markdown",
   "metadata": {},
   "source": [
    "# Heart data set contine 271 randuri de date, 14 feature-uri, feature-ul pe care il vom clasifica este F14 care are 2 posibile clase"
   ]
  },
  {
   "cell_type": "code",
   "execution_count": 14,
   "metadata": {},
   "outputs": [
    {
     "name": "stdout",
     "output_type": "stream",
     "text": [
      "Evaluate Heart dataset\n",
      "  1-NN 0.6148 \n",
      "  3-NN 0.6519 \n",
      "  5-NN 0.6481 \n",
      "  7-NN 0.6704 \n",
      "  9-NN 0.6778 \n",
      " 11-NN 0.6704 \n",
      " 13-NN 0.6704 \n",
      " 15-NN 0.6741 \n",
      "ensemble 0.6704 \n",
      "Best accuracy :  9-NN with accuracy 0.6778 \n"
     ]
    }
   ],
   "source": [
    "print('Evaluate Heart dataset')\n",
    "input_file = \"heart.csv\"\n",
    "\n",
    "data = pd.read_csv(input_file, header = 0)\n",
    "\n",
    "X, y = data[data.columns.drop('F14')], data['F14']\n",
    "\n",
    "n=int(math.sqrt(271))\n",
    "\n",
    "\n",
    "if(n % 2 == 0):\n",
    "\tn=n-1\n",
    "\n",
    "models = get_models(n)\n",
    "# evaluate the models and store results\n",
    "results, names = list(), list()\n",
    "bestName=\"1NN\"; bestAccuracy=0;\n",
    "for name, model in models.items():\n",
    "\tscores = evaluate_model(model)\n",
    "\tresults.append(scores)\n",
    "\tnames.append(name)\n",
    "\tzipped= zip(names, results)\n",
    "names, results = zip(*sorted(zipped))\n",
    "for x in range (len(names)): \t\n",
    "\tprint('%s %.4f ' % (names[x], mean(results[x])))\n",
    "\tif(mean(results[x])> bestAccuracy):\n",
    "\t\tbestName= names[x]; \n",
    "\t\tbestAccuracy= mean(results[x]);\n",
    "print('Best accuracy :%s with accuracy %.4f '% (bestName, bestAccuracy))"
   ]
  },
  {
   "cell_type": "markdown",
   "metadata": {},
   "source": [
    "# Ionosphere data set contine 351 randuri de date, 35 feature-uri, feature-ul pe care il vom clasifica este F35 care are 2 posibile clase"
   ]
  },
  {
   "cell_type": "code",
   "execution_count": 16,
   "metadata": {},
   "outputs": [
    {
     "name": "stdout",
     "output_type": "stream",
     "text": [
      "Evaluate Ionosphere dataset\n",
      "  1-NN 0.8657 \n",
      "  3-NN 0.8457 \n",
      "  5-NN 0.8457 \n",
      "  7-NN 0.8288 \n",
      "  9-NN 0.8288 \n",
      " 11-NN 0.8345 \n",
      " 13-NN 0.8347 \n",
      " 15-NN 0.8316 \n",
      " 17-NN 0.8375 \n",
      "ensemble 0.8288 \n",
      "Best accuracy :  1-NN with accuracy 0.8657 \n"
     ]
    }
   ],
   "source": [
    "print('Evaluate Ionosphere dataset')\n",
    "input_file = \"ionosphere.csv\"\n",
    "\n",
    "data = pd.read_csv(input_file, header = 0)\n",
    "\n",
    "X, y = data[data.columns.drop('F35')], data['F35']\n",
    "\n",
    "n=int(math.sqrt(351))\n",
    "\n",
    "\n",
    "if(n % 2 == 0):\n",
    "\tn=n-1\n",
    "\n",
    "models = get_models(n)\n",
    "# evaluate the models and store results\n",
    "results, names = list(), list()\n",
    "bestName=\"1NN\"; bestAccuracy=0;\n",
    "for name, model in models.items():\n",
    "\tscores = evaluate_model(model)\n",
    "\tresults.append(scores)\n",
    "\tnames.append(name)\n",
    "\tzipped= zip(names, results)\n",
    "names, results = zip(*sorted(zipped))\n",
    "for x in range (len(names)): \t\n",
    "\tprint('%s %.4f ' % (names[x], mean(results[x])))\n",
    "\tif(mean(results[x])> bestAccuracy):\n",
    "\t\tbestName= names[x]; \n",
    "\t\tbestAccuracy= mean(results[x]);\n",
    "print('Best accuracy :%s with accuracy %.4f '% (bestName, bestAccuracy))"
   ]
  },
  {
   "cell_type": "markdown",
   "metadata": {},
   "source": [
    "# Iris data set contine 151 randuri de date, 5 feature-uri, feature-ul pe care il vom clasifica este F5 care are 3 posibile clase"
   ]
  },
  {
   "cell_type": "code",
   "execution_count": 18,
   "metadata": {},
   "outputs": [
    {
     "name": "stdout",
     "output_type": "stream",
     "text": [
      "Evaluate Iris dataset\n",
      "  1-NN 0.9600 \n",
      "  3-NN 0.9600 \n",
      "  5-NN 0.9667 \n",
      "  7-NN 0.9667 \n",
      "  9-NN 0.9667 \n",
      " 11-NN 0.9733 \n",
      "ensemble 0.9667 \n",
      "Best accuracy : 11-NN with accuracy 0.9733 \n"
     ]
    }
   ],
   "source": [
    "print('Evaluate Iris dataset')\n",
    "input_file = \"iris.csv\"\n",
    "\n",
    "data = pd.read_csv(input_file, header = 0)\n",
    "\n",
    "X, y = data[data.columns.drop('F5')], data['F5']\n",
    "\n",
    "n=int(math.sqrt(151))\n",
    "\n",
    "\n",
    "if(n % 2 == 0):\n",
    "\tn=n-1\n",
    "\n",
    "models = get_models(n)\n",
    "# evaluate the models and store results\n",
    "results, names = list(), list()\n",
    "bestName=\"1NN\"; bestAccuracy=0;\n",
    "for name, model in models.items():\n",
    "\tscores = evaluate_model(model)\n",
    "\tresults.append(scores)\n",
    "\tnames.append(name)\n",
    "\tzipped= zip(names, results)\n",
    "names, results = zip(*sorted(zipped))\n",
    "for x in range (len(names)): \t\n",
    "\tprint('%s %.4f ' % (names[x], mean(results[x])))\n",
    "\tif(mean(results[x])> bestAccuracy):\n",
    "\t\tbestName= names[x]; \n",
    "\t\tbestAccuracy= mean(results[x]);\n",
    "print('Best accuracy :%s with accuracy %.4f '% (bestName, bestAccuracy))"
   ]
  },
  {
   "cell_type": "markdown",
   "metadata": {},
   "source": [
    "# Liver data set contine 345 randuri de date, 7 feature-uri, feature-ul pe care il vom clasifica este F7 care are 2 posibile clase"
   ]
  },
  {
   "cell_type": "code",
   "execution_count": 27,
   "metadata": {},
   "outputs": [
    {
     "name": "stdout",
     "output_type": "stream",
     "text": [
      "Evaluate Liver dataset\n",
      "  1-NN 0.6143 \n",
      "  3-NN 0.6422 \n",
      "  5-NN 0.6604 \n",
      "  7-NN 0.6925 \n",
      "  9-NN 0.7044 \n",
      " 11-NN 0.6875 \n",
      " 13-NN 0.6873 \n",
      " 15-NN 0.6932 \n",
      " 17-NN 0.6873 \n",
      "ensemble 0.6901 \n",
      "Best accuracy :  9-NN with accuracy 0.7044 \n"
     ]
    }
   ],
   "source": [
    "print('Evaluate Liver dataset')\n",
    "input_file = \"liver.csv\"\n",
    "\n",
    "data = pd.read_csv(input_file, header = 0)\n",
    "\n",
    "X, y = data[data.columns.drop('F7')], data['F7']\n",
    "\n",
    "n=int(math.sqrt(345))\n",
    "\n",
    "\n",
    "if(n % 2 == 0):\n",
    "\tn=n-1\n",
    "\n",
    "models = get_models(n)\n",
    "# evaluate the models and store results\n",
    "results, names = list(), list()\n",
    "bestName=\"1NN\"; bestAccuracy=0;\n",
    "for name, model in models.items():\n",
    "\tscores = evaluate_model(model)\n",
    "\tresults.append(scores)\n",
    "\tnames.append(name)\n",
    "\tzipped= zip(names, results)\n",
    "names, results = zip(*sorted(zipped))\n",
    "for x in range (len(names)): \t\n",
    "\tprint('%s %.4f ' % (names[x], mean(results[x])))\n",
    "\tif(mean(results[x])> bestAccuracy):\n",
    "\t\tbestName= names[x]; \n",
    "\t\tbestAccuracy= mean(results[x]);\n",
    "print('Best accuracy :%s with accuracy %.4f '% (bestName, bestAccuracy))\n"
   ]
  },
  {
   "cell_type": "markdown",
   "metadata": {},
   "source": [
    "# Parkinson data set contine 1040 randuri de date, 27 feature-uri, feature-ul pe care il vom clasifica este F1 care are 2 posibile clase"
   ]
  },
  {
   "cell_type": "code",
   "execution_count": 30,
   "metadata": {},
   "outputs": [
    {
     "name": "stdout",
     "output_type": "stream",
     "text": [
      "Evaluate Parkinson dataset\n",
      "  1-NN 0.6062 \n",
      "  3-NN 0.5888 \n",
      "  5-NN 0.5111 \n",
      "  7-NN 0.4939 \n",
      "  9-NN 0.4405 \n",
      " 11-NN 0.3631 \n",
      "ensemble 0.4938 \n",
      "Best accuracy :  1-NN with accuracy 0.6062 \n"
     ]
    }
   ],
   "source": [
    "print('Evaluate Parkinson dataset')\n",
    "input_file = \"parkinson.csv\"\n",
    "\n",
    "data = pd.read_csv(input_file, header = 0)\n",
    "\n",
    "X, y = data[data.columns.drop('F1')], data['F1']\n",
    "\n",
    "n=int(math.sqrt(168))\n",
    "\n",
    "\n",
    "if(n % 2 == 0):\n",
    "\tn=n-1\n",
    "\n",
    "models = get_models(n)\n",
    "# evaluate the models and store results\n",
    "results, names = list(), list()\n",
    "bestName=\"1NN\"; bestAccuracy=0;\n",
    "for name, model in models.items():\n",
    "\tscores = evaluate_model(model)\n",
    "\tresults.append(scores)\n",
    "\tnames.append(name)\n",
    "\tzipped= zip(names, results)\n",
    "names, results = zip(*sorted(zipped))\n",
    "for x in range (len(names)): \t\n",
    "\tprint('%s %.4f ' % (names[x], mean(results[x])))\n",
    "\tif(mean(results[x])> bestAccuracy):\n",
    "\t\tbestName= names[x]; \n",
    "\t\tbestAccuracy= mean(results[x]);\n",
    "print('Best accuracy :%s with accuracy %.4f '% (bestName, bestAccuracy))"
   ]
  },
  {
   "cell_type": "markdown",
   "metadata": {},
   "source": [
    "# Sonar data set contine 209 randuri de date, 61 feature-uri, feature-ul pe care il vom clasifica este F61 care are 2 posibile clase"
   ]
  },
  {
   "cell_type": "code",
   "execution_count": 15,
   "metadata": {},
   "outputs": [
    {
     "name": "stdout",
     "output_type": "stream",
     "text": [
      "Evaluate Sonar dataset\n",
      "  1-NN 0.8074 \n",
      "  3-NN 0.8075 \n",
      "  5-NN 0.7784 \n",
      "  7-NN 0.7204 \n",
      "  9-NN 0.6725 \n",
      " 11-NN 0.6725 \n",
      " 13-NN 0.6533 \n",
      "ensemble 0.7398 \n",
      "Best accuracy :  3-NN with accuracy 0.8075 \n"
     ]
    }
   ],
   "source": [
    "print('Evaluate Sonar dataset')\n",
    "input_file = \"sonar.csv\"\n",
    "\n",
    "data = pd.read_csv(input_file, header = 0)\n",
    "\n",
    "X, y = data[data.columns.drop('F61')], data['F61']\n",
    "\n",
    "n=int(math.sqrt(209))\n",
    "\n",
    "\n",
    "if(n % 2 == 0):\n",
    "\tn=n-1\n",
    "\n",
    "models = get_models(n)\n",
    "# evaluate the models and store results\n",
    "results, names = list(), list()\n",
    "bestName=\"1NN\"; bestAccuracy=0;\n",
    "for name, model in models.items():\n",
    "\tscores = evaluate_model(model)\n",
    "\tresults.append(scores)\n",
    "\tnames.append(name)\n",
    "\tzipped= zip(names, results)\n",
    "names, results = zip(*sorted(zipped))\n",
    "for x in range (len(names)): \t\n",
    "\tprint('%s %.4f ' % (names[x], mean(results[x])))\n",
    "\tif(mean(results[x])> bestAccuracy):\n",
    "\t\tbestName= names[x]; \n",
    "\t\tbestAccuracy= mean(results[x]);\n",
    "print('Best accuracy :%s with accuracy %.4f '% (bestName, bestAccuracy))"
   ]
  },
  {
   "cell_type": "markdown",
   "metadata": {},
   "source": [
    "# Wine data set contine 179 randuri de date, 13 feature-uri, feature-ul pe care il vom clasifica este F1 care are 3 posibile clase"
   ]
  },
  {
   "cell_type": "code",
   "execution_count": 16,
   "metadata": {},
   "outputs": [
    {
     "name": "stdout",
     "output_type": "stream",
     "text": [
      "Evaluate Wine dataset\n",
      "  1-NN 0.7525 \n",
      "  3-NN 0.7143 \n",
      "  5-NN 0.7198 \n",
      "  7-NN 0.7083 \n",
      "  9-NN 0.6970 \n",
      " 11-NN 0.6802 \n",
      " 13-NN 0.6856 \n",
      "ensemble 0.7252 \n",
      "Best accuracy :  1-NN with accuracy 0.7525 \n"
     ]
    }
   ],
   "source": [
    "print('Evaluate Wine dataset')\n",
    "input_file = \"wine.csv\"\n",
    "\n",
    "data = pd.read_csv(input_file, header = 0)\n",
    "\n",
    "X, y = data[data.columns.drop('F1')], data['F1']\n",
    "\n",
    "n=int(math.sqrt(179))\n",
    "\n",
    "\n",
    "if(n % 2 == 0):\n",
    "\tn=n-1\n",
    "\n",
    "models = get_models(n)\n",
    "# evaluate the models and store results\n",
    "results, names = list(), list()\n",
    "bestName=\"1NN\"; bestAccuracy=0;\n",
    "for name, model in models.items():\n",
    "\tscores = evaluate_model(model)\n",
    "\tresults.append(scores)\n",
    "\tnames.append(name)\n",
    "\tzipped= zip(names, results)\n",
    "names, results = zip(*sorted(zipped))\n",
    "for x in range (len(names)): \t\n",
    "\tprint('%s %.4f ' % (names[x], mean(results[x])))\n",
    "\tif(mean(results[x])> bestAccuracy):\n",
    "\t\tbestName= names[x]; \n",
    "\t\tbestAccuracy= mean(results[x]);\n",
    "print('Best accuracy :%s with accuracy %.4f '% (bestName, bestAccuracy))"
   ]
  },
  {
   "cell_type": "markdown",
   "metadata": {},
   "source": [
    "# EEG data set contine 14980 randuri de date, 15 feature-uri, feature-ul pe care il vom clasifica este F15 care are 2 posibile clase (loading time > 5 minutes)"
   ]
  },
  {
   "cell_type": "code",
   "execution_count": 18,
   "metadata": {},
   "outputs": [
    {
     "name": "stdout",
     "output_type": "stream",
     "text": [
      "Evaluate EEG dataset\n",
      "  1-NN 0.9768 \n",
      "  3-NN 0.9726 \n",
      "  5-NN 0.9653 \n",
      "  7-NN 0.9613 \n",
      "  9-NN 0.9573 \n",
      " 11-NN 0.9536 \n",
      " 13-NN 0.9519 \n",
      " 15-NN 0.9493 \n",
      " 17-NN 0.9449 \n",
      " 19-NN 0.9419 \n",
      " 21-NN 0.9393 \n",
      " 23-NN 0.9366 \n",
      " 25-NN 0.9334 \n",
      " 27-NN 0.9310 \n",
      " 29-NN 0.9290 \n",
      " 31-NN 0.9271 \n",
      " 33-NN 0.9245 \n",
      " 35-NN 0.9225 \n",
      " 37-NN 0.9202 \n",
      " 39-NN 0.9184 \n",
      " 41-NN 0.9166 \n",
      " 43-NN 0.9145 \n",
      " 45-NN 0.9131 \n",
      " 47-NN 0.9113 \n",
      " 49-NN 0.9105 \n",
      " 51-NN 0.9089 \n",
      " 53-NN 0.9070 \n",
      " 55-NN 0.9051 \n",
      " 57-NN 0.9041 \n",
      " 59-NN 0.9031 \n",
      " 61-NN 0.9017 \n",
      " 63-NN 0.9012 \n",
      " 65-NN 0.9005 \n",
      " 67-NN 0.8989 \n",
      " 69-NN 0.8972 \n",
      " 71-NN 0.8959 \n",
      " 73-NN 0.8953 \n",
      " 75-NN 0.8940 \n",
      " 77-NN 0.8927 \n",
      " 79-NN 0.8921 \n",
      " 81-NN 0.8915 \n",
      " 83-NN 0.8905 \n",
      " 85-NN 0.8889 \n",
      " 87-NN 0.8880 \n",
      " 89-NN 0.8863 \n",
      " 91-NN 0.8852 \n",
      " 93-NN 0.8849 \n",
      " 95-NN 0.8835 \n",
      " 97-NN 0.8823 \n",
      " 99-NN 0.8802 \n",
      "101-NN 0.8787 \n",
      "103-NN 0.8784 \n",
      "105-NN 0.8771 \n",
      "107-NN 0.8757 \n",
      "109-NN 0.8748 \n",
      "111-NN 0.8737 \n",
      "113-NN 0.8724 \n",
      "115-NN 0.8711 \n",
      "117-NN 0.8707 \n",
      "119-NN 0.8685 \n",
      "121-NN 0.8680 \n",
      "ensemble 0.9052 \n",
      "Best accuracy :  1-NN with accuracy 0.9768 \n"
     ]
    }
   ],
   "source": [
    "print('Evaluate EEG dataset')\n",
    "input_file = \"EEG.csv\"\n",
    "\n",
    "data = pd.read_csv(input_file, header = 0)\n",
    "\n",
    "X, y = data[data.columns.drop('F15')], data['F15']\n",
    "\n",
    "n=int(math.sqrt(14980))\n",
    "\n",
    "\n",
    "if(n % 2 == 0):\n",
    "\tn=n-1\n",
    "\n",
    "models = get_models(n)\n",
    "# evaluate the models and store results\n",
    "results, names = list(), list()\n",
    "bestName=\"1NN\"; bestAccuracy=0;\n",
    "for name, model in models.items():\n",
    "\tscores = evaluate_model(model)\n",
    "\tresults.append(scores)\n",
    "\tnames.append(name)\n",
    "\tzipped= zip(names, results)\n",
    "names, results = zip(*sorted(zipped))\n",
    "for x in range (len(names)): \t\n",
    "\tprint('%s %.4f ' % (names[x], mean(results[x])))\n",
    "\tif(mean(results[x])> bestAccuracy):\n",
    "\t\tbestName= names[x]; \n",
    "\t\tbestAccuracy= mean(results[x]);\n",
    "print('Best accuracy :%s with accuracy %.4f '% (bestName, bestAccuracy))\n"
   ]
  },
  {
   "cell_type": "markdown",
   "metadata": {},
   "source": [
    "# Letter recognition data set contine 20000 randuri de date, 16 feature-uri, feature-ul pe care il vom clasifica este F1 care are 26 posibile clase (loading time > 5 minutes)"
   ]
  },
  {
   "cell_type": "code",
   "execution_count": 19,
   "metadata": {},
   "outputs": [
    {
     "name": "stdout",
     "output_type": "stream",
     "text": [
      "Evaluate Letter-Recognition dataset\n",
      "  1-NN 0.9570 \n",
      "  3-NN 0.9531 \n",
      "  5-NN 0.9503 \n",
      "  7-NN 0.9482 \n",
      "  9-NN 0.9465 \n",
      " 11-NN 0.9431 \n",
      " 13-NN 0.9410 \n",
      " 15-NN 0.9370 \n",
      " 17-NN 0.9347 \n",
      " 19-NN 0.9312 \n",
      " 21-NN 0.9278 \n",
      " 23-NN 0.9250 \n",
      " 25-NN 0.9219 \n",
      " 27-NN 0.9189 \n",
      " 29-NN 0.9163 \n",
      " 31-NN 0.9149 \n",
      " 33-NN 0.9118 \n",
      " 35-NN 0.9090 \n",
      " 37-NN 0.9069 \n",
      " 39-NN 0.9044 \n",
      " 41-NN 0.9033 \n",
      " 43-NN 0.8995 \n",
      " 45-NN 0.8964 \n",
      " 47-NN 0.8942 \n",
      " 49-NN 0.8911 \n",
      " 51-NN 0.8857 \n",
      " 53-NN 0.8836 \n",
      " 55-NN 0.8822 \n",
      " 57-NN 0.8792 \n",
      " 59-NN 0.8765 \n",
      " 61-NN 0.8736 \n",
      " 63-NN 0.8704 \n",
      " 65-NN 0.8665 \n",
      " 67-NN 0.8638 \n",
      " 69-NN 0.8614 \n",
      " 71-NN 0.8584 \n",
      " 73-NN 0.8575 \n",
      " 75-NN 0.8549 \n",
      " 77-NN 0.8529 \n",
      " 79-NN 0.8509 \n",
      " 81-NN 0.8484 \n",
      " 83-NN 0.8462 \n",
      " 85-NN 0.8434 \n",
      " 87-NN 0.8417 \n",
      " 89-NN 0.8400 \n",
      " 91-NN 0.8377 \n",
      " 93-NN 0.8350 \n",
      " 95-NN 0.8341 \n",
      " 97-NN 0.8317 \n",
      " 99-NN 0.8294 \n",
      "101-NN 0.8275 \n",
      "103-NN 0.8248 \n",
      "105-NN 0.8236 \n",
      "107-NN 0.8224 \n",
      "109-NN 0.8206 \n",
      "111-NN 0.8190 \n",
      "113-NN 0.8168 \n",
      "115-NN 0.8155 \n",
      "117-NN 0.8134 \n",
      "119-NN 0.8111 \n",
      "121-NN 0.8093 \n",
      "123-NN 0.8077 \n",
      "125-NN 0.8070 \n",
      "127-NN 0.8061 \n",
      "129-NN 0.8026 \n",
      "131-NN 0.8020 \n",
      "133-NN 0.8000 \n",
      "135-NN 0.7990 \n",
      "137-NN 0.7981 \n",
      "139-NN 0.7959 \n",
      "141-NN 0.7932 \n",
      "ensemble 0.8691 \n",
      "Best accuracy :  1-NN with accuracy 0.9570 \n"
     ]
    }
   ],
   "source": [
    "print('Evaluate Letter-Recognition dataset')\n",
    "input_file = \"letter-recognition.csv\"\n",
    "\n",
    "data = pd.read_csv(input_file, header = 0)\n",
    "\n",
    "X, y = data[data.columns.drop('F1')], data['F1']\n",
    "\n",
    "n=int(math.sqrt(20000))\n",
    "\n",
    "\n",
    "if(n % 2 == 0):\n",
    "\tn=n-1\n",
    "\n",
    "models = get_models(n)\n",
    "# evaluate the models and store results\n",
    "results, names = list(), list()\n",
    "bestName=\"1NN\"; bestAccuracy=0;\n",
    "for name, model in models.items():\n",
    "\tscores = evaluate_model(model)\n",
    "\tresults.append(scores)\n",
    "\tnames.append(name)\n",
    "\tzipped= zip(names, results)\n",
    "names, results = zip(*sorted(zipped))\n",
    "for x in range (len(names)): \t\n",
    "\tprint('%s %.4f ' % (names[x], mean(results[x])))\n",
    "\tif(mean(results[x])> bestAccuracy):\n",
    "\t\tbestName= names[x]; \n",
    "\t\tbestAccuracy= mean(results[x]);\n",
    "print('Best accuracy :%s with accuracy %.4f '% (bestName, bestAccuracy))\n"
   ]
  },
  {
   "cell_type": "markdown",
   "metadata": {},
   "source": [
    "# Concluzii: \n",
    "# Toate seturile de date evaluate anterior au fost evaluate si in articolul ales de mine, restul seturilor de date care sunt prezentate in articol si nu sunt regasite mai sus nu mai sunt disponibile pe site-ul din bibliografie. \n",
    "\n",
    "# In urma experimentelor am remarcat ca desi clasificatorul asamblat descris in articol nu depaseste performanta celui mai bun clasificator KNN din ansamblul sau performanta ansamblului este foarte apropiata de cea mai buna performanta, scutundu-ne de cautarea parametrului k care ar avea cea mai buna performanta. \n",
    "\n",
    "# De asemenea am remarcat ca performantele optinute ruland codul python din terminal(folosind versiunea 2.7.3) si cea optinuta din acest notebook(care foloseste versiunea 3) sunt diferite"
   ]
  }
 ],
 "metadata": {
  "kernelspec": {
   "display_name": "Python 3",
   "language": "python",
   "name": "python3"
  },
  "language_info": {
   "codemirror_mode": {
    "name": "ipython",
    "version": 3
   },
   "file_extension": ".py",
   "mimetype": "text/x-python",
   "name": "python",
   "nbconvert_exporter": "python",
   "pygments_lexer": "ipython3",
   "version": "3.7.6"
  }
 },
 "nbformat": 4,
 "nbformat_minor": 4
}
